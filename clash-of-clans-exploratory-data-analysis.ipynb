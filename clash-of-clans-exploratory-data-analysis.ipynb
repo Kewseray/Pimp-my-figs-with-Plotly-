{
 "cells": [
  {
   "cell_type": "markdown",
   "id": "0fb48db3",
   "metadata": {
    "papermill": {
     "duration": 0.006134,
     "end_time": "2023-10-13T15:36:13.242405",
     "exception": false,
     "start_time": "2023-10-13T15:36:13.236271",
     "status": "completed"
    },
    "tags": []
   },
   "source": [
    "# Clash of Clans - Explatory Data Analysis\n",
    "\n",
    "Let's start with importing libraries and see what the data will take us! First, explore the data."
   ]
  },
  {
   "cell_type": "code",
   "execution_count": null,
   "id": "18c35eee",
   "metadata": {
    "_cell_guid": "b1076dfc-b9ad-4769-8c92-a6c4dae69d19",
    "_uuid": "8f2839f25d086af736a60e9eeb907d3b93b6e0e5",
    "execution": {
     "iopub.execute_input": "2023-10-13T15:36:13.257123Z",
     "iopub.status.busy": "2023-10-13T15:36:13.255949Z",
     "iopub.status.idle": "2023-10-13T15:36:15.319276Z",
     "shell.execute_reply": "2023-10-13T15:36:15.318195Z"
    },
    "papermill": {
     "duration": 2.073391,
     "end_time": "2023-10-13T15:36:15.321796",
     "exception": false,
     "start_time": "2023-10-13T15:36:13.248405",
     "status": "completed"
    },
    "tags": []
   },
   "outputs": [],
   "source": [
    "import numpy as np\n",
    "import pandas as pd\n",
    "import plotly.express as px\n",
    "import plotly.graph_objects as go \n",
    "import plotly.figure_factory as ff\n"
   ]
  },
  {
   "cell_type": "code",
   "execution_count": null,
   "id": "d90e49ba",
   "metadata": {
    "execution": {
     "iopub.execute_input": "2023-10-13T15:36:15.335610Z",
     "iopub.status.busy": "2023-10-13T15:36:15.335097Z",
     "iopub.status.idle": "2023-10-13T15:37:01.172386Z",
     "shell.execute_reply": "2023-10-13T15:37:01.171286Z"
    },
    "papermill": {
     "duration": 45.847093,
     "end_time": "2023-10-13T15:37:01.174983",
     "exception": false,
     "start_time": "2023-10-13T15:36:15.327890",
     "status": "completed"
    },
    "tags": []
   },
   "outputs": [],
   "source": [
    "df = pd.read_csv('coc_clans_dataset.csv', index_col = 0)"
   ]
  },
  {
   "cell_type": "markdown",
   "id": "b0baba24",
   "metadata": {
    "papermill": {
     "duration": 0.005398,
     "end_time": "2023-10-13T15:37:01.186694",
     "exception": false,
     "start_time": "2023-10-13T15:37:01.181296",
     "status": "completed"
    },
    "tags": []
   },
   "source": [
    "### I try to recognize which columns I will use and which colums are unnecessary for me."
   ]
  },
  {
   "cell_type": "code",
   "execution_count": null,
   "id": "3e00ea95",
   "metadata": {
    "execution": {
     "iopub.execute_input": "2023-10-13T15:37:01.199732Z",
     "iopub.status.busy": "2023-10-13T15:37:01.199383Z",
     "iopub.status.idle": "2023-10-13T15:37:01.230019Z",
     "shell.execute_reply": "2023-10-13T15:37:01.228787Z"
    },
    "papermill": {
     "duration": 0.040482,
     "end_time": "2023-10-13T15:37:01.232874",
     "exception": false,
     "start_time": "2023-10-13T15:37:01.192392",
     "status": "completed"
    },
    "tags": []
   },
   "outputs": [],
   "source": [
    "df.head()"
   ]
  },
  {
   "cell_type": "code",
   "execution_count": null,
   "id": "b9661e43",
   "metadata": {
    "execution": {
     "iopub.execute_input": "2023-10-13T15:37:01.247467Z",
     "iopub.status.busy": "2023-10-13T15:37:01.247092Z",
     "iopub.status.idle": "2023-10-13T15:37:01.272079Z",
     "shell.execute_reply": "2023-10-13T15:37:01.270539Z"
    },
    "papermill": {
     "duration": 0.035071,
     "end_time": "2023-10-13T15:37:01.274444",
     "exception": false,
     "start_time": "2023-10-13T15:37:01.239373",
     "status": "completed"
    },
    "tags": []
   },
   "outputs": [],
   "source": [
    "df.info()"
   ]
  },
  {
   "cell_type": "markdown",
   "id": "f9be1a58",
   "metadata": {
    "papermill": {
     "duration": 0.0062,
     "end_time": "2023-10-13T15:37:01.287392",
     "exception": false,
     "start_time": "2023-10-13T15:37:01.281192",
     "status": "completed"
    },
    "tags": []
   },
   "source": [
    "#### I like to use visualizations, pretty much for everything :) Let's see how many null data we have.\n"
   ]
  },
  {
   "cell_type": "markdown",
   "id": "136540c4",
   "metadata": {
    "papermill": {
     "duration": 0.007818,
     "end_time": "2023-10-13T15:39:05.224426",
     "exception": false,
     "start_time": "2023-10-13T15:39:05.216608",
     "status": "completed"
    },
    "tags": []
   },
   "source": [
    "#### Data is clearly processed, we have only two columns with missing data."
   ]
  },
  {
   "cell_type": "markdown",
   "id": "36d58662",
   "metadata": {
    "papermill": {
     "duration": 0.008382,
     "end_time": "2023-10-13T15:39:05.240561",
     "exception": false,
     "start_time": "2023-10-13T15:39:05.232179",
     "status": "completed"
    },
    "tags": []
   },
   "source": [
    "## Let's explore one of those columns with empty cells, \"clan_location\".\n",
    "## I want to see how many empty cells we have, after that explore its distribution.\n"
   ]
  },
  {
   "cell_type": "code",
   "execution_count": null,
   "id": "d02f7243",
   "metadata": {
    "execution": {
     "iopub.execute_input": "2023-10-13T15:39:05.259144Z",
     "iopub.status.busy": "2023-10-13T15:39:05.258776Z",
     "iopub.status.idle": "2023-10-13T15:39:05.560512Z",
     "shell.execute_reply": "2023-10-13T15:39:05.558726Z"
    },
    "papermill": {
     "duration": 0.315464,
     "end_time": "2023-10-13T15:39:05.564756",
     "exception": false,
     "start_time": "2023-10-13T15:39:05.249292",
     "status": "completed"
    },
    "tags": []
   },
   "outputs": [],
   "source": [
    "missing_count = df['clan_location'].isnull().sum()\n",
    "non_missing_count = len(df) - missing_count\n",
    "\n",
    "labels = ['Missing Data', 'Non-Missing Data']\n",
    "sizes = [missing_count, non_missing_count]\n",
    "colors = ['lightcoral', 'lightgreen']\n",
    "\n",
    "fig = px.pie(names=labels, values=sizes, color_discrete_sequence=colors)\n",
    "fig.update_traces(textinfo='percent+label', pull=[0.1, 0])  # Explode the \"Missing Data\" slice\n",
    "fig.update_layout(title='Missing Data in \"clan_location\" Column')\n",
    "\n",
    "fig.show()"
   ]
  },
  {
   "cell_type": "code",
   "execution_count": null,
   "id": "552e949a",
   "metadata": {
    "execution": {
     "iopub.execute_input": "2023-10-13T15:39:05.613379Z",
     "iopub.status.busy": "2023-10-13T15:39:05.612668Z",
     "iopub.status.idle": "2023-10-13T15:39:06.053260Z",
     "shell.execute_reply": "2023-10-13T15:39:06.052023Z"
    },
    "papermill": {
     "duration": 0.465863,
     "end_time": "2023-10-13T15:39:06.055636",
     "exception": false,
     "start_time": "2023-10-13T15:39:05.589773",
     "status": "completed"
    },
    "tags": []
   },
   "outputs": [],
   "source": [
    "df['clan_location'].unique(), df['clan_location'].value_counts()"
   ]
  },
  {
   "cell_type": "code",
   "execution_count": null,
   "id": "aea711e1",
   "metadata": {
    "execution": {
     "iopub.execute_input": "2023-10-13T15:39:06.075902Z",
     "iopub.status.busy": "2023-10-13T15:39:06.075478Z",
     "iopub.status.idle": "2023-10-13T15:39:06.292866Z",
     "shell.execute_reply": "2023-10-13T15:39:06.291679Z"
    },
    "papermill": {
     "duration": 0.230175,
     "end_time": "2023-10-13T15:39:06.295012",
     "exception": false,
     "start_time": "2023-10-13T15:39:06.064837",
     "status": "completed"
    },
    "tags": []
   },
   "outputs": [],
   "source": [
    "count = (df['clan_location'] == 'Türkiye').sum()\n",
    "count"
   ]
  },
  {
   "cell_type": "code",
   "execution_count": null,
   "id": "9449ee50",
   "metadata": {
    "execution": {
     "iopub.execute_input": "2023-10-13T15:39:06.314732Z",
     "iopub.status.busy": "2023-10-13T15:39:06.314357Z",
     "iopub.status.idle": "2023-10-13T15:39:11.471886Z",
     "shell.execute_reply": "2023-10-13T15:39:11.470639Z"
    },
    "papermill": {
     "duration": 5.170591,
     "end_time": "2023-10-13T15:39:11.474459",
     "exception": false,
     "start_time": "2023-10-13T15:39:06.303868",
     "status": "completed"
    },
    "tags": []
   },
   "outputs": [],
   "source": [
    "# Create a DataFrame with the top 20 clan locations\n",
    "top_20_locations = df['clan_location'].value_counts().head(20).reset_index()\n",
    "top_20_locations.columns = ['Clan Location', 'Count']\n",
    "\n",
    "# Create a bar chart using Plotly Express\n",
    "fig = px.bar(top_20_locations, x='Clan Location', y='Count', text='Count')\n",
    "\n",
    "# Customize the layout\n",
    "fig.update_layout(\n",
    "    title='Count of Clan Locations',\n",
    "    xaxis_title='Clan Location',\n",
    "    yaxis_title='Count'\n",
    ")\n",
    "\n",
    "# Rotate x-axis labels for better readability\n",
    "fig.update_xaxes(tickangle=45)\n",
    "\n",
    "# Show the bar chart\n",
    "fig.show()"
   ]
  },
  {
   "cell_type": "markdown",
   "id": "34d920be",
   "metadata": {
    "execution": {
     "iopub.execute_input": "2023-10-13T13:21:15.024652Z",
     "iopub.status.busy": "2023-10-13T13:21:15.024291Z",
     "iopub.status.idle": "2023-10-13T13:21:15.297326Z",
     "shell.execute_reply": "2023-10-13T13:21:15.295695Z",
     "shell.execute_reply.started": "2023-10-13T13:21:15.024625Z"
    },
    "papermill": {
     "duration": 0.010316,
     "end_time": "2023-10-13T15:39:11.494930",
     "exception": false,
     "start_time": "2023-10-13T15:39:11.484614",
     "status": "completed"
    },
    "tags": []
   },
   "source": [
    "### Indonesians seem to love Clash of Clans :)"
   ]
  },
  {
   "cell_type": "markdown",
   "id": "95c1d082",
   "metadata": {
    "papermill": {
     "duration": 0.009887,
     "end_time": "2023-10-13T15:39:11.515288",
     "exception": false,
     "start_time": "2023-10-13T15:39:11.505401",
     "status": "completed"
    },
    "tags": []
   },
   "source": [
    "## This was a simple exploration for a column. Let's dive deep into remaining of the data."
   ]
  },
  {
   "cell_type": "markdown",
   "id": "3e0f9a82",
   "metadata": {
    "papermill": {
     "duration": 0.009597,
     "end_time": "2023-10-13T15:39:11.534978",
     "exception": false,
     "start_time": "2023-10-13T15:39:11.525381",
     "status": "completed"
    },
    "tags": []
   },
   "source": [
    "### Is Family Friendly? Let's find out."
   ]
  },
  {
   "cell_type": "code",
   "execution_count": null,
   "id": "743efcec",
   "metadata": {
    "execution": {
     "iopub.execute_input": "2023-10-13T15:39:11.556826Z",
     "iopub.status.busy": "2023-10-13T15:39:11.556429Z",
     "iopub.status.idle": "2023-10-13T15:39:12.232571Z",
     "shell.execute_reply": "2023-10-13T15:39:12.231022Z"
    },
    "papermill": {
     "duration": 0.691542,
     "end_time": "2023-10-13T15:39:12.236494",
     "exception": false,
     "start_time": "2023-10-13T15:39:11.544952",
     "status": "completed"
    },
    "tags": []
   },
   "outputs": [],
   "source": [
    "# Create a DataFrame with the count of Family-Friendly vs. Not Family-Friendly Clans\n",
    "family_friendly_counts = df['isFamilyFriendly'].value_counts().reset_index()\n",
    "family_friendly_counts.columns = ['Is Family-Friendly', 'Count']\n",
    "\n",
    "# Create a bar chart using Plotly Express\n",
    "fig = px.bar(family_friendly_counts, x='Is Family-Friendly', y='Count', text='Count', color='Is Family-Friendly', labels={'Is Family-Friendly': 'Family-Friendly'})\n",
    "\n",
    "# Customize the layout\n",
    "fig.update_layout(\n",
    "    title='Family-Friendly vs. Not Family-Friendly Clans',\n",
    "    xaxis_title='Is Family-Friendly',\n",
    "    yaxis_title='Count'\n",
    ")\n",
    "\n",
    "# Show the bar chart\n",
    "fig.show()"
   ]
  },
  {
   "cell_type": "markdown",
   "id": "fa78afb1",
   "metadata": {
    "papermill": {
     "duration": 0.010387,
     "end_time": "2023-10-13T15:39:12.270165",
     "exception": false,
     "start_time": "2023-10-13T15:39:12.259778",
     "status": "completed"
    },
    "tags": []
   },
   "source": [
    "### When we look into the clan_level column, we see that most clans are just level 1 and the frequency decreases sharply. So even with the bins, visualization is not very pleasant, but I'll keep it either way :)"
   ]
  },
  {
   "cell_type": "code",
   "execution_count": null,
   "id": "5d4aef1c",
   "metadata": {
    "execution": {
     "iopub.execute_input": "2023-10-13T15:39:12.294005Z",
     "iopub.status.busy": "2023-10-13T15:39:12.293151Z",
     "iopub.status.idle": "2023-10-13T15:39:12.330747Z",
     "shell.execute_reply": "2023-10-13T15:39:12.329597Z"
    },
    "papermill": {
     "duration": 0.052259,
     "end_time": "2023-10-13T15:39:12.333197",
     "exception": false,
     "start_time": "2023-10-13T15:39:12.280938",
     "status": "completed"
    },
    "tags": []
   },
   "outputs": [],
   "source": [
    "df['clan_level'].value_counts()"
   ]
  },
  {
   "cell_type": "code",
   "execution_count": null,
   "id": "216309cf",
   "metadata": {
    "execution": {
     "iopub.execute_input": "2023-10-13T15:39:12.357418Z",
     "iopub.status.busy": "2023-10-13T15:39:12.356977Z",
     "iopub.status.idle": "2023-10-13T15:39:12.925825Z",
     "shell.execute_reply": "2023-10-13T15:39:12.924723Z"
    },
    "papermill": {
     "duration": 0.58379,
     "end_time": "2023-10-13T15:39:12.928091",
     "exception": false,
     "start_time": "2023-10-13T15:39:12.344301",
     "status": "completed"
    },
    "tags": []
   },
   "outputs": [],
   "source": [
    "# Group levels 1-6, 7-12, 13-18, and so on\n",
    "bins = [0, 6, 12, 18, 24, 30, 36]\n",
    "labels = ['1-6', '7-12', '13-18', '19-24', '25-30', '31-36']\n",
    "\n",
    "# Group the clan levels and create a new column to represent the groups\n",
    "df['clan_level_group'] = pd.cut(df['clan_level'], bins=bins, labels=labels)\n",
    "\n",
    "# Create a DataFrame with the count of clans in grouped clan levels\n",
    "clan_level_counts = df['clan_level_group'].value_counts().reset_index()\n",
    "clan_level_counts.columns = ['Clan Level Group', 'Count']\n",
    "\n",
    "# Create a bar chart using Plotly Express\n",
    "fig = px.bar(clan_level_counts, x='Clan Level Group', y='Count', text='Count', color='Clan Level Group', labels={'Clan Level Group': 'Clan Level Group'})\n",
    "\n",
    "# Customize the layout\n",
    "fig.update_layout(\n",
    "    title='Count of Clans in Grouped Clan Levels',\n",
    "    xaxis_title='Clan Level Group',\n",
    "    yaxis_title='Count'\n",
    ")\n",
    "\n",
    "# Show the bar chart\n",
    "fig.show()"
   ]
  },
  {
   "cell_type": "markdown",
   "id": "cf2ee530",
   "metadata": {
    "papermill": {
     "duration": 0.011364,
     "end_time": "2023-10-13T15:39:12.951294",
     "exception": false,
     "start_time": "2023-10-13T15:39:12.939930",
     "status": "completed"
    },
    "tags": []
   },
   "source": [
    "#### Let's show something obvious:"
   ]
  },
  {
   "cell_type": "code",
   "execution_count": null,
   "id": "a018eab8",
   "metadata": {
    "execution": {
     "iopub.execute_input": "2023-10-13T15:39:12.977397Z",
     "iopub.status.busy": "2023-10-13T15:39:12.976987Z",
     "iopub.status.idle": "2023-10-13T15:49:49.048927Z",
     "shell.execute_reply": "2023-10-13T15:49:49.047778Z"
    },
    "papermill": {
     "duration": 636.087562,
     "end_time": "2023-10-13T15:49:49.051158",
     "exception": false,
     "start_time": "2023-10-13T15:39:12.963596",
     "status": "completed"
    },
    "tags": []
   },
   "outputs": [],
   "source": [
    "# Create a scatter plot using Plotly Express\n",
    "fig = px.scatter(df, x='clan_level', y='war_wins', title='Correlation between Clan Level and War Wins',\n",
    "                 labels={'clan_level': 'Clan Level', 'war_wins': 'War Wins'})\n",
    "\n",
    "# Show the scatter plot\n",
    "fig.show()"
   ]
  },
  {
   "cell_type": "markdown",
   "id": "69014931",
   "metadata": {
    "papermill": {
     "duration": 0.013734,
     "end_time": "2023-10-13T15:49:49.079254",
     "exception": false,
     "start_time": "2023-10-13T15:49:49.065520",
     "status": "completed"
    },
    "tags": []
   },
   "source": [
    "### This lmplot took some time to process, most probably because of the size of the data. "
   ]
  },
  {
   "cell_type": "markdown",
   "id": "09273e54",
   "metadata": {
    "papermill": {
     "duration": 0.013028,
     "end_time": "2023-10-13T15:49:49.107101",
     "exception": false,
     "start_time": "2023-10-13T15:49:49.094073",
     "status": "completed"
    },
    "tags": []
   },
   "source": [
    "## Distribution of Clan Leagues"
   ]
  },
  {
   "cell_type": "code",
   "execution_count": null,
   "id": "db4ba75a",
   "metadata": {
    "execution": {
     "iopub.execute_input": "2023-10-13T15:49:49.136588Z",
     "iopub.status.busy": "2023-10-13T15:49:49.136154Z",
     "iopub.status.idle": "2023-10-13T15:49:49.436569Z",
     "shell.execute_reply": "2023-10-13T15:49:49.435069Z"
    },
    "papermill": {
     "duration": 0.319095,
     "end_time": "2023-10-13T15:49:49.439323",
     "exception": false,
     "start_time": "2023-10-13T15:49:49.120228",
     "status": "completed"
    },
    "tags": []
   },
   "outputs": [],
   "source": [
    "df['capital_league'].value_counts()"
   ]
  },
  {
   "cell_type": "code",
   "execution_count": null,
   "id": "dd1dd1a8",
   "metadata": {
    "execution": {
     "iopub.execute_input": "2023-10-13T15:49:49.467791Z",
     "iopub.status.busy": "2023-10-13T15:49:49.467435Z",
     "iopub.status.idle": "2023-10-13T15:49:51.785041Z",
     "shell.execute_reply": "2023-10-13T15:49:51.783952Z"
    },
    "papermill": {
     "duration": 2.33545,
     "end_time": "2023-10-13T15:49:51.788136",
     "exception": false,
     "start_time": "2023-10-13T15:49:49.452686",
     "status": "completed"
    },
    "tags": []
   },
   "outputs": [],
   "source": [
    "\n",
    "# Create a DataFrame with the count of clans in each league\n",
    "league_counts = df['capital_league'].value_counts().reset_index()\n",
    "league_counts.columns = ['Capital League', 'Count']\n",
    "\n",
    "# Create a bar chart using Plotly Express\n",
    "fig = px.bar(league_counts, x='Capital League', y='Count', text='Count', color='Capital League', category_orders={\"Capital League\": df['capital_league'].value_counts().index})\n",
    "\n",
    "# Customize the layout\n",
    "fig.update_layout(\n",
    "    title='Distribution of Clans in Leagues',\n",
    "    xaxis_title='Capital League',\n",
    "    yaxis_title='Count'\n",
    ")\n",
    "\n",
    "# Rotate x-axis labels for better readability\n",
    "fig.update_xaxes(tickangle=45)\n",
    "\n",
    "# Show the bar chart\n",
    "fig.show()"
   ]
  },
  {
   "cell_type": "markdown",
   "id": "d6fdc2db",
   "metadata": {
    "papermill": {
     "duration": 0.014797,
     "end_time": "2023-10-13T15:49:51.818403",
     "exception": false,
     "start_time": "2023-10-13T15:49:51.803606",
     "status": "completed"
    },
    "tags": []
   },
   "source": [
    "### So many unranked, just exclude it for the sake of the graph."
   ]
  },
  {
   "cell_type": "code",
   "execution_count": null,
   "id": "dc4b4e0f",
   "metadata": {
    "execution": {
     "iopub.execute_input": "2023-10-13T15:49:51.851000Z",
     "iopub.status.busy": "2023-10-13T15:49:51.850323Z",
     "iopub.status.idle": "2023-10-13T15:49:52.954818Z",
     "shell.execute_reply": "2023-10-13T15:49:52.953503Z"
    },
    "papermill": {
     "duration": 1.124177,
     "end_time": "2023-10-13T15:49:52.957736",
     "exception": false,
     "start_time": "2023-10-13T15:49:51.833559",
     "status": "completed"
    },
    "tags": []
   },
   "outputs": [],
   "source": [
    "# Filter the DataFrame to exclude \"Unranked\" leagues\n",
    "df_ranked = df[df['capital_league'] != 'Unranked']\n",
    "\n",
    "# Create a DataFrame with the count of clans in each ranked league\n",
    "league_counts = df_ranked['capital_league'].value_counts().reset_index()\n",
    "league_counts.columns = ['Capital League', 'Count']\n",
    "\n",
    "# Create a bar chart using Plotly Express\n",
    "fig = px.bar(league_counts, x='Capital League', y='Count', text='Count', color='Capital League', category_orders={\"Capital League\": df_ranked['capital_league'].value_counts().index})\n",
    "\n",
    "# Customize the layout\n",
    "fig.update_layout(\n",
    "    title='Distribution of Clans in Ranked Leagues (Excluding \"Unranked\")',\n",
    "    xaxis_title='Capital League',\n",
    "    yaxis_title='Count'\n",
    ")\n",
    "\n",
    "# Rotate x-axis labels for better readability\n",
    "fig.update_xaxes(tickangle=45)\n",
    "\n",
    "# Show the bar chart\n",
    "fig.show()"
   ]
  },
  {
   "cell_type": "markdown",
   "id": "4a6aaba5",
   "metadata": {
    "papermill": {
     "duration": 0.016918,
     "end_time": "2023-10-13T15:49:52.993342",
     "exception": false,
     "start_time": "2023-10-13T15:49:52.976424",
     "status": "completed"
    },
    "tags": []
   },
   "source": [
    "## Correlation Map"
   ]
  },
  {
   "cell_type": "code",
   "execution_count": null,
   "id": "63813af7",
   "metadata": {
    "execution": {
     "iopub.execute_input": "2023-10-13T15:49:53.030413Z",
     "iopub.status.busy": "2023-10-13T15:49:53.029994Z",
     "iopub.status.idle": "2023-10-13T15:49:53.042182Z",
     "shell.execute_reply": "2023-10-13T15:49:53.040928Z"
    },
    "papermill": {
     "duration": 0.03396,
     "end_time": "2023-10-13T15:49:53.044616",
     "exception": false,
     "start_time": "2023-10-13T15:49:53.010656",
     "status": "completed"
    },
    "tags": []
   },
   "outputs": [],
   "source": [
    "df.info()"
   ]
  },
  {
   "cell_type": "code",
   "execution_count": null,
   "id": "81e3bc13",
   "metadata": {
    "execution": {
     "iopub.execute_input": "2023-10-13T15:49:53.081189Z",
     "iopub.status.busy": "2023-10-13T15:49:53.080184Z",
     "iopub.status.idle": "2023-10-13T15:49:58.460539Z",
     "shell.execute_reply": "2023-10-13T15:49:58.459401Z"
    },
    "papermill": {
     "duration": 5.405409,
     "end_time": "2023-10-13T15:49:58.467251",
     "exception": false,
     "start_time": "2023-10-13T15:49:53.061842",
     "status": "completed"
    },
    "tags": []
   },
   "outputs": [],
   "source": [
    "selected_columns = ['clan_level', 'clan_points', 'clan_builder_base_points', 'clan_versus_points',\n",
    "                    'required_trophies', 'war_win_streak', 'war_wins', 'war_ties', 'war_losses',\n",
    "                    'num_members', 'required_builder_base_trophies', 'required_versus_trophies', \n",
    "                    'required_townhall_level', 'clan_capital_hall_level', 'clan_capital_points', \n",
    "                    'mean_member_level', 'mean_member_trophies']\n",
    "\n",
    "correlation_matrix = df[selected_columns].corr()\n",
    "\n",
    "# Create a correlation heatmap using Plotly\n",
    "fig = ff.create_annotated_heatmap(\n",
    "    z=correlation_matrix.values,\n",
    "    x=selected_columns,\n",
    "    y=selected_columns,\n",
    "    colorscale='Viridis',\n",
    "    showscale=True\n",
    ")\n",
    "\n",
    "# Customize the layout\n",
    "fig.update_layout(\n",
    "    title='Correlation Map of Selected Columns',\n",
    "    xaxis_title='Columns',\n",
    "    yaxis_title='Columns'\n",
    ")\n",
    "\n",
    "# Show the heatmap\n",
    "fig.show()"
   ]
  },
  {
   "cell_type": "markdown",
   "id": "770a4535",
   "metadata": {
    "papermill": {
     "duration": 0.028314,
     "end_time": "2023-10-13T15:49:58.524558",
     "exception": false,
     "start_time": "2023-10-13T15:49:58.496244",
     "status": "completed"
    },
    "tags": []
   },
   "source": [
    "## It would be interesting to run ML models in this dataset. We need to first identify target and variables. EDA is needed before \"model step\"."
   ]
  },
  {
   "cell_type": "code",
   "execution_count": null,
   "id": "cd080dcc",
   "metadata": {
    "papermill": {
     "duration": 0.027765,
     "end_time": "2023-10-13T15:49:58.580853",
     "exception": false,
     "start_time": "2023-10-13T15:49:58.553088",
     "status": "completed"
    },
    "tags": []
   },
   "outputs": [],
   "source": []
  }
 ],
 "metadata": {
  "kernelspec": {
   "display_name": "Python 3",
   "language": "python",
   "name": "python3"
  },
  "language_info": {
   "codemirror_mode": {
    "name": "ipython",
    "version": 3
   },
   "file_extension": ".py",
   "mimetype": "text/x-python",
   "name": "python",
   "nbconvert_exporter": "python",
   "pygments_lexer": "ipython3",
   "version": "3.9.12"
  },
  "papermill": {
   "default_parameters": {},
   "duration": 830.072997,
   "end_time": "2023-10-13T15:49:59.935053",
   "environment_variables": {},
   "exception": null,
   "input_path": "__notebook__.ipynb",
   "output_path": "__notebook__.ipynb",
   "parameters": {},
   "start_time": "2023-10-13T15:36:09.862056",
   "version": "2.4.0"
  }
 },
 "nbformat": 4,
 "nbformat_minor": 5
}
